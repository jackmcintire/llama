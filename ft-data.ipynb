{
 "cells": [
  {
   "cell_type": "code",
   "execution_count": 14,
   "metadata": {},
   "outputs": [],
   "source": [
    "import torch\n",
    "from datasets import Dataset, load_dataset\n",
    "import json\n",
    "import re"
   ]
  },
  {
   "cell_type": "code",
   "execution_count": null,
   "metadata": {},
   "outputs": [],
   "source": []
  },
  {
   "cell_type": "code",
   "execution_count": 3,
   "metadata": {},
   "outputs": [
    {
     "data": {
      "text/plain": [
       "DatasetDict({\n",
       "    train: Dataset({\n",
       "        features: ['original dialog id', 'new dialog id', 'dialog index', 'original dialog info', 'log', 'prompt'],\n",
       "        num_rows: 879\n",
       "    })\n",
       "    validation: Dataset({\n",
       "        features: ['original dialog id', 'new dialog id', 'dialog index', 'original dialog info', 'log', 'prompt'],\n",
       "        num_rows: 110\n",
       "    })\n",
       "    test: Dataset({\n",
       "        features: ['original dialog id', 'new dialog id', 'dialog index', 'original dialog info', 'log', 'prompt'],\n",
       "        num_rows: 110\n",
       "    })\n",
       "})"
      ]
     },
     "execution_count": 3,
     "metadata": {},
     "output_type": "execute_result"
    }
   ],
   "source": [
    "dataset = load_dataset(\"Salesforce/dialogstudio\", \"TweetSumm\")\n",
    "dataset"
   ]
  },
  {
   "cell_type": "code",
   "execution_count": 4,
   "metadata": {},
   "outputs": [],
   "source": [
    "DEFAULT_SYSTEM_PROMPT = \"\"\"\n",
    "Below is a conversation between a human and an AI agent. Write a summary of the conversation.\n",
    "\"\"\".strip()\n",
    "\n",
    "def generate_training_prompt(conversation: str, summary: str, system_prompt: str = DEFAULT_SYSTEM_PROMPT) -> str:\n",
    "    return f\"\"\"### Instruction: {system_prompt}\n",
    "\n",
    "### Input:\n",
    "{conversation.strip()}\n",
    "\n",
    "### Response:\n",
    "{summary}\n",
    "\"\"\".strip()"
   ]
  },
  {
   "cell_type": "code",
   "execution_count": 5,
   "metadata": {},
   "outputs": [],
   "source": [
    "def clean_text(text: str):\n",
    "    text = re.sub(r\"http\\S+\", \"\", text)\n",
    "    text = re.sub(r\"@[^\\s]+\", \"\", text)\n",
    "    text = re.sub(r\"\\s+\", \" \", text)\n",
    "    return re.sub(r\"\\^[^ ]+\", \"\", text)\n",
    "\n",
    "def create_conversation_text(data_point):\n",
    "    text = \"\"\n",
    "    for item in data_point['log']:\n",
    "        user = clean_text(item[\"user utterance\"])\n",
    "        text += f\"user: {user.strip()}\\n\"\n",
    "\n",
    "        agent = clean_text(item[\"system response\"])\n",
    "        text += f\"agent: {agent.strip()}\\n\"\n",
    "    return text"
   ]
  },
  {
   "cell_type": "code",
   "execution_count": 36,
   "metadata": {},
   "outputs": [],
   "source": [
    "def generate_text(data_point):\n",
    "    summaries = json.loads(data_point[\"original dialog info\"])[\"summaries\"][\"abstractive_summaries\"]\n",
    "    summary = summaries[0]\n",
    "    summary = \" \".join(summary)\n",
    "\n",
    "    conversation_text = create_conversation_text(data_point)\n",
    "\n",
    "    return {\n",
    "        \"conversation\": conversation_text,\n",
    "        \"summary\": summary,\n",
    "        \"text\": generate_training_prompt(conversation_text, summary)\n",
    "    }"
   ]
  },
  {
   "cell_type": "code",
   "execution_count": 37,
   "metadata": {},
   "outputs": [
    {
     "name": "stdout",
     "output_type": "stream",
     "text": [
      "{'original dialog id': 'b065262210783596c1fe79466b8f8985', 'new dialog id': 'TweetSumm--train--1', 'dialog index': 1, 'original dialog info': '{\"summaries\": {\"extractive_summaries\": [[{\"is_agent\": false, \"sentences\": [\"So neither my iPhone nor my Apple Watch are recording my steps/activity, and Health doesn\\\\u2019t recognise either source anymore for some reason.\"]}, {\"is_agent\": true, \"sentences\": [\"To start, can you tell us the software versions your iPhone and Apple Watch are running currently?\"]}, {\"is_agent\": false, \"sentences\": [\"@AppleSupport My iPhone is on 11.1.2, and my watch is on 4.1.\"]}], [{\"is_agent\": false, \"sentences\": [\"So neither my iPhone nor my Apple Watch are recording my steps/activity, and Health doesn\\\\u2019t recognise either source anymore for some reason.\"]}, {\"is_agent\": true, \"sentences\": [\"To start, can you tell us the software versions your iPhone and Apple Watch are running currently?\"]}], [{\"is_agent\": false, \"sentences\": [\"So neither my iPhone nor my Apple Watch are recording my steps/activity, and Health doesn\\\\u2019t recognise either source anymore for some reason.\"]}, {\"is_agent\": true, \"sentences\": [\"Have you tried restarting both devices since this started happening?\"]}, {\"is_agent\": false, \"sentences\": [\"@AppleSupport Yes, everything seems fine, it\\\\u2019s just Health and activity.\"]}, {\"is_agent\": true, \"sentences\": [\"@135060 Let\\\\u2019s move to DM and look into this a bit more.\"]}]], \"abstractive_summaries\": [[\"Customer enquired about his Iphone and Apple watch which is not showing his any steps/activity and health activities.\", \"Agent is asking to move to DM and look into it.\"], [\"The customer has a problem.\", \"The agent in a very professional way tries to help the client.\"], [\"Health and activity functions are not working with the smartwatch and phone.\", \"Asks if the customer had restarted the items, offers to take this to DM to help resolve the issue.\"]]}}', 'log': [{'turn id': 1, 'user utterance': 'So neither my iPhone nor my Apple Watch are recording my steps/activity, and Health doesn’t recognise either source anymore for some reason. Any ideas? https://t.co/m9DPQbkftD @AppleSupport please read the above.', 'system response': '@135060 Let’s investigate this together. To start, can you tell us the software versions your iPhone and Apple Watch are running currently?', 'dialog history': '', 'original user side information': '{}', 'original system side information': '{}'}, {'turn id': 2, 'user utterance': '@AppleSupport My iPhone is on 11.1.2, and my watch is on 4.1.', 'system response': '@135060 Thank you. Have you tried restarting both devices since this started happening?', 'dialog history': '<USER> So neither my iPhone nor my Apple Watch are recording my steps/activity, and Health doesn’t recognise either source anymore for some reason. Any ideas? https://t.co/m9DPQbkftD @AppleSupport please read the above. <SYSTEM> @135060 Let’s investigate this together. To start, can you tell us the software versions your iPhone and Apple Watch are running currently?', 'original user side information': '{}', 'original system side information': '{}'}, {'turn id': 3, 'user utterance': '@AppleSupport I’ve restarted both, also un-paired then re-paired the watch.', 'system response': '@135060 Got it. When did you first notice that the two devices were not talking to each other. Do the two devices communicate through other apps such as Messages?', 'dialog history': '<USER> So neither my iPhone nor my Apple Watch are recording my steps/activity, and Health doesn’t recognise either source anymore for some reason. Any ideas? https://t.co/m9DPQbkftD @AppleSupport please read the above. <SYSTEM> @135060 Let’s investigate this together. To start, can you tell us the software versions your iPhone and Apple Watch are running currently? <USER> @AppleSupport My iPhone is on 11.1.2, and my watch is on 4.1. <SYSTEM> @135060 Thank you. Have you tried restarting both devices since this started happening?', 'original user side information': '{}', 'original system side information': '{}'}, {'turn id': 4, 'user utterance': '@AppleSupport Yes, everything seems fine, it’s just Health and activity.', 'system response': '@135060 Let’s move to DM and look into this a bit more. When reaching out in DM, let us know when this first started happening please. For example, did it start after an update or after installing a certain app? https://t.co/GDrqU22YpT', 'dialog history': '<USER> So neither my iPhone nor my Apple Watch are recording my steps/activity, and Health doesn’t recognise either source anymore for some reason. Any ideas? https://t.co/m9DPQbkftD @AppleSupport please read the above. <SYSTEM> @135060 Let’s investigate this together. To start, can you tell us the software versions your iPhone and Apple Watch are running currently? <USER> @AppleSupport My iPhone is on 11.1.2, and my watch is on 4.1. <SYSTEM> @135060 Thank you. Have you tried restarting both devices since this started happening? <USER> @AppleSupport I’ve restarted both, also un-paired then re-paired the watch. <SYSTEM> @135060 Got it. When did you first notice that the two devices were not talking to each other. Do the two devices communicate through other apps such as Messages?', 'original user side information': '{}', 'original system side information': '{}'}], 'prompt': ['']}\n"
     ]
    }
   ],
   "source": [
    "example = generate_text(dataset['train'][0])"
   ]
  },
  {
   "cell_type": "code",
   "execution_count": 35,
   "metadata": {},
   "outputs": [
    {
     "name": "stdout",
     "output_type": "stream",
     "text": [
      "Customer enquired about his Iphone and Apple watch which is not showing his any steps/activity and health activities. Agent is asking to move to DM and look into it.\n"
     ]
    }
   ],
   "source": [
    "print(example[\"summary\"])"
   ]
  },
  {
   "cell_type": "code",
   "execution_count": 29,
   "metadata": {},
   "outputs": [
    {
     "name": "stdout",
     "output_type": "stream",
     "text": [
      "user: So neither my iPhone nor my Apple Watch are recording my steps/activity, and Health doesn’t recognise either source anymore for some reason. Any ideas? please read the above.\n",
      "agent: Let’s investigate this together. To start, can you tell us the software versions your iPhone and Apple Watch are running currently?\n",
      "user: My iPhone is on 11.1.2, and my watch is on 4.1.\n",
      "agent: Thank you. Have you tried restarting both devices since this started happening?\n",
      "user: I’ve restarted both, also un-paired then re-paired the watch.\n",
      "agent: Got it. When did you first notice that the two devices were not talking to each other. Do the two devices communicate through other apps such as Messages?\n",
      "user: Yes, everything seems fine, it’s just Health and activity.\n",
      "agent: Let’s move to DM and look into this a bit more. When reaching out in DM, let us know when this first started happening please. For example, did it start after an update or after installing a certain app?\n",
      "\n"
     ]
    }
   ],
   "source": [
    "print(example[\"conversation\"])"
   ]
  },
  {
   "cell_type": "code",
   "execution_count": 38,
   "metadata": {},
   "outputs": [
    {
     "name": "stdout",
     "output_type": "stream",
     "text": [
      "### Instruction: Below is a conversation between a human and an AI agent. Write a summary of the conversation.\n",
      "\n",
      "### Input:\n",
      "user: So neither my iPhone nor my Apple Watch are recording my steps/activity, and Health doesn’t recognise either source anymore for some reason. Any ideas? please read the above.\n",
      "agent: Let’s investigate this together. To start, can you tell us the software versions your iPhone and Apple Watch are running currently?\n",
      "user: My iPhone is on 11.1.2, and my watch is on 4.1.\n",
      "agent: Thank you. Have you tried restarting both devices since this started happening?\n",
      "user: I’ve restarted both, also un-paired then re-paired the watch.\n",
      "agent: Got it. When did you first notice that the two devices were not talking to each other. Do the two devices communicate through other apps such as Messages?\n",
      "user: Yes, everything seems fine, it’s just Health and activity.\n",
      "agent: Let’s move to DM and look into this a bit more. When reaching out in DM, let us know when this first started happening please. For example, did it start after an update or after installing a certain app?\n",
      "\n",
      "### Response:\n",
      "Customer enquired about his Iphone and Apple watch which is not showing his any steps/activity and health activities. Agent is asking to move to DM and look into it.\n"
     ]
    }
   ],
   "source": [
    "print(example[\"text\"])"
   ]
  },
  {
   "cell_type": "code",
   "execution_count": 39,
   "metadata": {},
   "outputs": [],
   "source": [
    "def process_dataset(data: Dataset):\n",
    "    return(\n",
    "        data.shuffle(seed=42)\n",
    "        .map(generate_text)\n",
    "        .remove_columns(\n",
    "            [\n",
    "                \"original dialog id\",\n",
    "                \"new dialog id\",\n",
    "                \"dialog index\",\n",
    "                \"original dialog info\",\n",
    "                \"log\",\n",
    "                \"prompt\",\n",
    "            ]\n",
    "        )\n",
    "    )"
   ]
  },
  {
   "cell_type": "code",
   "execution_count": null,
   "metadata": {},
   "outputs": [],
   "source": [
    "dataset['train'] = process_dataset(dataset['train'])\n",
    "dataset['validation'] = process_dataset(dataset['validation'])\n",
    "dataset['test'] = process_dataset(dataset['test'])"
   ]
  },
  {
   "cell_type": "code",
   "execution_count": 41,
   "metadata": {},
   "outputs": [
    {
     "data": {
      "text/plain": [
       "DatasetDict({\n",
       "    train: Dataset({\n",
       "        features: ['conversation', 'summary', 'text'],\n",
       "        num_rows: 879\n",
       "    })\n",
       "    validation: Dataset({\n",
       "        features: ['conversation', 'summary', 'text'],\n",
       "        num_rows: 110\n",
       "    })\n",
       "    test: Dataset({\n",
       "        features: ['conversation', 'summary', 'text'],\n",
       "        num_rows: 110\n",
       "    })\n",
       "})"
      ]
     },
     "execution_count": 41,
     "metadata": {},
     "output_type": "execute_result"
    }
   ],
   "source": [
    "dataset"
   ]
  }
 ],
 "metadata": {
  "kernelspec": {
   "display_name": "jenv",
   "language": "python",
   "name": "python3"
  },
  "language_info": {
   "codemirror_mode": {
    "name": "ipython",
    "version": 3
   },
   "file_extension": ".py",
   "mimetype": "text/x-python",
   "name": "python",
   "nbconvert_exporter": "python",
   "pygments_lexer": "ipython3",
   "version": "3.8.10"
  }
 },
 "nbformat": 4,
 "nbformat_minor": 2
}
